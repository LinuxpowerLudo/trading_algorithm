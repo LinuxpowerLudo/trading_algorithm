{
  "nbformat": 4,
  "nbformat_minor": 0,
  "metadata": {
    "colab": {
      "name": "pnl2",
      "provenance": [],
      "collapsed_sections": [],
      "authorship_tag": "ABX9TyO1DizYSiE8p8u+pkTXUQrz",
      "include_colab_link": true
    },
    "kernelspec": {
      "name": "python3",
      "display_name": "Python 3"
    }
  },
  "cells": [
    {
      "cell_type": "markdown",
      "metadata": {
        "id": "view-in-github",
        "colab_type": "text"
      },
      "source": [
        "<a href=\"https://colab.research.google.com/github/queiyanglim/trading_algorithm/blob/master/pnl2.ipynb\" target=\"_parent\"><img src=\"https://colab.research.google.com/assets/colab-badge.svg\" alt=\"Open In Colab\"/></a>"
      ]
    },
    {
      "cell_type": "code",
      "metadata": {
        "id": "5b7zcQwZlfrQ",
        "colab_type": "code",
        "colab": {}
      },
      "source": [
        "#!git clone https://github.com/queiyanglim/trading_algorithm.git"
      ],
      "execution_count": 0,
      "outputs": []
    },
    {
      "cell_type": "code",
      "metadata": {
        "id": "7RQL4Yq7mcfi",
        "colab_type": "code",
        "colab": {
          "base_uri": "https://localhost:8080/",
          "height": 34
        },
        "outputId": "4d6a47fc-5728-4c86-9fdf-4b7f7c17f74a"
      },
      "source": [
        "import os\n",
        "import numpy as np\n",
        "\n",
        "os.getcwd()\n",
        "os.chdir(r\"/content/trading_algorithm\")\n",
        "!pip install pykalman"
      ],
      "execution_count": 2,
      "outputs": [
        {
          "output_type": "stream",
          "text": [
            "Requirement already satisfied: pykalman in /usr/local/lib/python3.6/dist-packages (0.9.5)\n"
          ],
          "name": "stdout"
        }
      ]
    },
    {
      "cell_type": "code",
      "metadata": {
        "id": "3afzqrdellxu",
        "colab_type": "code",
        "colab": {}
      },
      "source": [
        "from oil_trading.brent_wti_kalman_spread.kalman_signal import *\n",
        "from oil_trading.data.prepare_reuters_data import get_reuters_data\n",
        "from oil_trading.brent_wti_kalman_spread.kalman_signal.trading_signal import kalman_regression_ZScore_signal\n",
        "import matplotlib.pyplot as plt\n",
        "import matplotlib as mpl\n",
        "from datetime import datetime\n",
        "\n",
        "mpl.rcParams['figure.figsize'] = (10, 5)\n",
        "mpl.rcParams['grid.color'] = 'k'\n",
        "mpl.rcParams['grid.linestyle'] = ':'\n",
        "mpl.rcParams['grid.linewidth'] = 0.5\n",
        "mpl.rcParams['axes.linewidth'] = 0.01\n",
        "plt.style.use(\"seaborn-whitegrid\")\n",
        "\n",
        "data = get_reuters_data(\"daily\")\n",
        "\n",
        "signal = kalman_regression_ZScore_signal(data, \"wti\", \"brent\")"
      ],
      "execution_count": 0,
      "outputs": []
    },
    {
      "cell_type": "code",
      "metadata": {
        "id": "nQ2CPN73n9Lb",
        "colab_type": "code",
        "colab": {
          "base_uri": "https://localhost:8080/",
          "height": 255
        },
        "outputId": "a1ec3e03-45fd-4871-9336-23c117e9e877"
      },
      "source": [
        "signal.head()"
      ],
      "execution_count": 4,
      "outputs": [
        {
          "output_type": "execute_result",
          "data": {
            "text/html": [
              "<div>\n",
              "<style scoped>\n",
              "    .dataframe tbody tr th:only-of-type {\n",
              "        vertical-align: middle;\n",
              "    }\n",
              "\n",
              "    .dataframe tbody tr th {\n",
              "        vertical-align: top;\n",
              "    }\n",
              "\n",
              "    .dataframe thead th {\n",
              "        text-align: right;\n",
              "    }\n",
              "</style>\n",
              "<table border=\"1\" class=\"dataframe\">\n",
              "  <thead>\n",
              "    <tr style=\"text-align: right;\">\n",
              "      <th></th>\n",
              "      <th>y</th>\n",
              "      <th>x</th>\n",
              "      <th>hr</th>\n",
              "      <th>hedged_spread</th>\n",
              "      <th>z_score</th>\n",
              "      <th>long_entry</th>\n",
              "      <th>long_exit</th>\n",
              "      <th>short_entry</th>\n",
              "      <th>short_exit</th>\n",
              "      <th>num_units_long</th>\n",
              "      <th>num_units_short</th>\n",
              "    </tr>\n",
              "    <tr>\n",
              "      <th>timestamp</th>\n",
              "      <th></th>\n",
              "      <th></th>\n",
              "      <th></th>\n",
              "      <th></th>\n",
              "      <th></th>\n",
              "      <th></th>\n",
              "      <th></th>\n",
              "      <th></th>\n",
              "      <th></th>\n",
              "      <th></th>\n",
              "      <th></th>\n",
              "    </tr>\n",
              "  </thead>\n",
              "  <tbody>\n",
              "    <tr>\n",
              "      <th>2014-05-23</th>\n",
              "      <td>110.54</td>\n",
              "      <td>104.35</td>\n",
              "      <td>-1.040132</td>\n",
              "      <td>2.002231</td>\n",
              "      <td>NaN</td>\n",
              "      <td>False</td>\n",
              "      <td>False</td>\n",
              "      <td>False</td>\n",
              "      <td>False</td>\n",
              "      <td>0.0</td>\n",
              "      <td>0.0</td>\n",
              "    </tr>\n",
              "    <tr>\n",
              "      <th>2014-05-26</th>\n",
              "      <td>110.32</td>\n",
              "      <td>104.24</td>\n",
              "      <td>-1.043644</td>\n",
              "      <td>1.530593</td>\n",
              "      <td>NaN</td>\n",
              "      <td>False</td>\n",
              "      <td>False</td>\n",
              "      <td>False</td>\n",
              "      <td>False</td>\n",
              "      <td>0.0</td>\n",
              "      <td>0.0</td>\n",
              "    </tr>\n",
              "    <tr>\n",
              "      <th>2014-05-27</th>\n",
              "      <td>110.02</td>\n",
              "      <td>104.11</td>\n",
              "      <td>-1.044819</td>\n",
              "      <td>1.243922</td>\n",
              "      <td>NaN</td>\n",
              "      <td>False</td>\n",
              "      <td>False</td>\n",
              "      <td>False</td>\n",
              "      <td>False</td>\n",
              "      <td>0.0</td>\n",
              "      <td>0.0</td>\n",
              "    </tr>\n",
              "    <tr>\n",
              "      <th>2014-05-28</th>\n",
              "      <td>109.81</td>\n",
              "      <td>102.72</td>\n",
              "      <td>-1.048340</td>\n",
              "      <td>2.124540</td>\n",
              "      <td>NaN</td>\n",
              "      <td>False</td>\n",
              "      <td>False</td>\n",
              "      <td>False</td>\n",
              "      <td>False</td>\n",
              "      <td>0.0</td>\n",
              "      <td>0.0</td>\n",
              "    </tr>\n",
              "    <tr>\n",
              "      <th>2014-05-29</th>\n",
              "      <td>109.97</td>\n",
              "      <td>103.58</td>\n",
              "      <td>-1.049152</td>\n",
              "      <td>1.298835</td>\n",
              "      <td>NaN</td>\n",
              "      <td>False</td>\n",
              "      <td>False</td>\n",
              "      <td>False</td>\n",
              "      <td>False</td>\n",
              "      <td>0.0</td>\n",
              "      <td>0.0</td>\n",
              "    </tr>\n",
              "  </tbody>\n",
              "</table>\n",
              "</div>"
            ],
            "text/plain": [
              "                 y       x  ...  num_units_long  num_units_short\n",
              "timestamp                   ...                                 \n",
              "2014-05-23  110.54  104.35  ...             0.0              0.0\n",
              "2014-05-26  110.32  104.24  ...             0.0              0.0\n",
              "2014-05-27  110.02  104.11  ...             0.0              0.0\n",
              "2014-05-28  109.81  102.72  ...             0.0              0.0\n",
              "2014-05-29  109.97  103.58  ...             0.0              0.0\n",
              "\n",
              "[5 rows x 11 columns]"
            ]
          },
          "metadata": {
            "tags": []
          },
          "execution_count": 4
        }
      ]
    },
    {
      "cell_type": "code",
      "metadata": {
        "id": "KGMJCcAHmuP4",
        "colab_type": "code",
        "colab": {}
      },
      "source": [
        "df = signal.copy()\n",
        "df[\"position\"] = df.num_units_long + df.num_units_short\n",
        "df[\"enter\"] = (df.long_entry & (df.position == 1)) | ((df.short_entry) & (df.position == -1))\n",
        "df = df[[\"y\", \"x\", \"hr\", \"position\", \"enter\"]]\n",
        "\n",
        "capital = 100000\n",
        "\n",
        "df[\"x_pos\"] = np.nan\n",
        "df[\"y_pos\"] = np.nan\n",
        "df = df.iloc[40:]\n",
        "df.loc[(df.position == 0), [\"x_pos\", \"y_pos\"]] = 0\n",
        "\n",
        "df.loc[df.enter,\"y_pos\"] = df.position * capital / df.y.loc[df.enter]\n",
        "df.loc[df.enter,\"x_pos\"] = df.y_pos * df.hr\n",
        "df.x_pos = df.x_pos.fillna(method=\"pad\")\n",
        "df.y_pos = df.y_pos.fillna(method =\"pad\")\n",
        "df.to_csv(\"check_entry.csv\")"
      ],
      "execution_count": 0,
      "outputs": []
    },
    {
      "cell_type": "code",
      "metadata": {
        "id": "ZhrhgNZQtswX",
        "colab_type": "code",
        "colab": {
          "base_uri": "https://localhost:8080/",
          "height": 330
        },
        "outputId": "b9eb6941-b6b2-4b3c-b760-2c8751d75a1a"
      },
      "source": [
        "df_x = df[[\"x\", \"x_pos\"]]\n",
        "df_y = df[[\"y\", \"y_pos\"]]\n",
        "\n",
        "from pnl_process.static_position import *\n",
        "ts_x_sum, ts_x = trade_summary(df_x, \"x\", \"x_pos\")\n",
        "ts_y_sum, ts_y = trade_summary(df_y, \"y\", \"y_pos\")\n",
        "\n",
        "total = ts_x + ts_y\n",
        "total = total.cumsum() + capital\n",
        "total.plot(figsize = (10,5))"
      ],
      "execution_count": 6,
      "outputs": [
        {
          "output_type": "execute_result",
          "data": {
            "text/plain": [
              "<matplotlib.axes._subplots.AxesSubplot at 0x7f2db1f6e3c8>"
            ]
          },
          "metadata": {
            "tags": []
          },
          "execution_count": 6
        },
        {
          "output_type": "display_data",
          "data": {
            "image/png": "[encoded data removed]",
            "text/plain": [
              "<Figure size 720x360 with 1 Axes>"
            ]
          },
          "metadata": {
            "tags": []
          }
        }
      ]
    }
  ]
}
