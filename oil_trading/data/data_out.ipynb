{
 "cells": [
  {
   "cell_type": "code",
   "execution_count": 61,
   "metadata": {},
   "outputs": [],
   "source": [
    "import eikon as ek\n",
    "import pandas as pd\n",
    "ek.set_app_key(\"11d0a9cec8354b79845f5cd85bbe20a6c44521b7\")\n",
    "\n",
    "ric_dict = {\"LCOc1\": \"brent\",\n",
    "            \"WTCLc1\":\"wti\"}\n",
    "\n",
    "rics = list(ric_dict.keys())\n",
    "\n",
    "start_date = \"2010-01-01\"\n",
    "end_date = \"2020-03-04\"\n",
    "\n",
    "interval_list = [\"daily\", \"minute\"]\n",
    "\n",
    "# https://docs-developers.refinitiv.com/1583406055801/14684/book/en/eikon/index.html#get_timeseries\n",
    "for interval in interval_list:\n",
    "    df = ek.get_timeseries(rics, start_date=start_date, end_date = end_date, interval = interval)\n",
    "    \n",
    "    # Rename columns into name instead of RICs\n",
    "    rename_col = list(df.columns)\n",
    "    for i, t in enumerate(rename_col):\n",
    "        s = list(t)\n",
    "        s[0] = ric_dict.get(s[0])\n",
    "        rename_col[i] = tuple(s)\n",
    "        \n",
    "    df.columns = pd.MultiIndex.from_tuples(rename_col)\n",
    "    df.index.name = \"timestamp\"\n",
    "    df.to_csv(interval + \".csv\")\n"
   ]
  },
  {
   "cell_type": "markdown",
   "metadata": {},
   "source": [
    "### Tick data"
   ]
  },
  {
   "cell_type": "code",
   "execution_count": 75,
   "metadata": {},
   "outputs": [],
   "source": [
    "\n",
    "for r in rics:\n",
    "    df = ek.get_timeseries(r, start_date=start_date, end_date = end_date, interval = \"tick\")\n",
    "    df.index.name = \"timestamp\"\n",
    "    df.reset_index(inplace = True)\n",
    "    df.to_csv(ric_dict.get(r) + \"_tick.csv\")"
   ]
  }
 ],
 "metadata": {
  "kernelspec": {
   "display_name": "Python 3",
   "language": "python",
   "name": "python3"
  },
  "language_info": {
   "codemirror_mode": {
    "name": "ipython",
    "version": 3
   },
   "file_extension": ".py",
   "mimetype": "text/x-python",
   "name": "python",
   "nbconvert_exporter": "python",
   "pygments_lexer": "ipython3",
   "version": "3.7.4"
  }
 },
 "nbformat": 4,
 "nbformat_minor": 4
}
