{
 "cells": [
  {
   "cell_type": "code",
   "execution_count": 6,
   "metadata": {},
   "outputs": [
    {
     "name": "stdout",
     "output_type": "stream",
     "text": [
      "Collecting eikon\n",
      "  Downloading eikon-1.1.2-py3-none-any.whl (47 kB)\n",
      "Collecting requests-async==0.6.2\n",
      "  Downloading requests-async-0.6.2.tar.gz (12 kB)\n",
      "Requirement already satisfied: pandas>=0.17.0 in c:\\users\\queiy\\anaconda3\\lib\\site-packages (from eikon) (1.0.1)\n",
      "Collecting websocket-client\n",
      "  Downloading websocket_client-0.57.0-py2.py3-none-any.whl (200 kB)\n",
      "Collecting deprecation\n",
      "  Downloading deprecation-2.1.0-py2.py3-none-any.whl (11 kB)\n",
      "Collecting nest-asyncio==1.0.0\n",
      "  Downloading nest_asyncio-1.0.0-py3-none-any.whl (3.8 kB)\n",
      "Requirement already satisfied: python-dateutil in c:\\users\\queiy\\anaconda3\\lib\\site-packages (from eikon) (2.8.1)\n",
      "Requirement already satisfied: requests==2.22.0 in c:\\users\\queiy\\anaconda3\\lib\\site-packages (from eikon) (2.22.0)\n",
      "Collecting datetime\n",
      "  Downloading DateTime-4.3-py2.py3-none-any.whl (60 kB)\n",
      "Collecting appdirs==1.4.3\n",
      "  Downloading appdirs-1.4.3-py2.py3-none-any.whl (12 kB)\n",
      "Requirement already satisfied: numpy>=1.11.0 in c:\\users\\queiy\\anaconda3\\lib\\site-packages (from eikon) (1.18.1)\n",
      "Collecting http3==0.6.*\n",
      "  Downloading http3-0.6.7.tar.gz (35 kB)\n",
      "Requirement already satisfied: pytz>=2017.2 in c:\\users\\queiy\\anaconda3\\lib\\site-packages (from pandas>=0.17.0->eikon) (2019.3)\n",
      "Requirement already satisfied: six in c:\\users\\queiy\\anaconda3\\lib\\site-packages (from websocket-client->eikon) (1.14.0)\n",
      "Requirement already satisfied: packaging in c:\\users\\queiy\\anaconda3\\lib\\site-packages (from deprecation->eikon) (20.1)\n",
      "Requirement already satisfied: idna<2.9,>=2.5 in c:\\users\\queiy\\anaconda3\\lib\\site-packages (from requests==2.22.0->eikon) (2.8)\n",
      "Requirement already satisfied: chardet<3.1.0,>=3.0.2 in c:\\users\\queiy\\anaconda3\\lib\\site-packages (from requests==2.22.0->eikon) (3.0.4)\n",
      "Requirement already satisfied: urllib3!=1.25.0,!=1.25.1,<1.26,>=1.21.1 in c:\\users\\queiy\\anaconda3\\lib\\site-packages (from requests==2.22.0->eikon) (1.25.8)\n",
      "Requirement already satisfied: certifi>=2017.4.17 in c:\\users\\queiy\\anaconda3\\lib\\site-packages (from requests==2.22.0->eikon) (2019.11.28)\n",
      "Collecting zope.interface\n",
      "  Downloading zope.interface-5.1.0-cp37-cp37m-win_amd64.whl (194 kB)\n",
      "Collecting h11==0.8.*\n",
      "  Downloading h11-0.8.1-py2.py3-none-any.whl (55 kB)\n",
      "Collecting h2==3.*\n",
      "  Downloading h2-3.2.0-py2.py3-none-any.whl (65 kB)\n",
      "Collecting rfc3986==1.*\n",
      "  Downloading rfc3986-1.4.0-py2.py3-none-any.whl (31 kB)\n",
      "Requirement already satisfied: pyparsing>=2.0.2 in c:\\users\\queiy\\anaconda3\\lib\\site-packages (from packaging->deprecation->eikon) (2.4.6)\n",
      "Requirement already satisfied: setuptools in c:\\users\\queiy\\anaconda3\\lib\\site-packages (from zope.interface->datetime->eikon) (45.2.0.post20200210)\n",
      "Collecting hyperframe<6,>=5.2.0\n",
      "  Downloading hyperframe-5.2.0-py2.py3-none-any.whl (12 kB)\n",
      "Collecting hpack<4,>=3.0\n",
      "  Downloading hpack-3.0.0-py2.py3-none-any.whl (38 kB)\n",
      "Building wheels for collected packages: requests-async, http3\n",
      "  Building wheel for requests-async (setup.py): started\n",
      "  Building wheel for requests-async (setup.py): finished with status 'done'\n",
      "  Created wheel for requests-async: filename=requests_async-0.6.2-py3-none-any.whl size=13936 sha256=33e355db2b5c5318e080a96fd45e0b54f66c7b73be600bf27fec56a47df56199\n",
      "  Stored in directory: c:\\users\\queiy\\appdata\\local\\pip\\cache\\wheels\\e2\\86\\aa\\4e7d8afb08b6c41858d9d154871b3fee7e374aab9e3b136d04\n",
      "  Building wheel for http3 (setup.py): started\n",
      "  Building wheel for http3 (setup.py): finished with status 'done'\n",
      "  Created wheel for http3: filename=http3-0.6.7-py3-none-any.whl size=42904 sha256=34640e83fc4dc6d2a5db35303aeff6f38b3bfd99f21fa55b3dd0dbc355c4d4c7\n",
      "  Stored in directory: c:\\users\\queiy\\appdata\\local\\pip\\cache\\wheels\\9e\\81\\df\\3a07a78e73d8b314c972fa6f8f83388f58c1c10bbb655f2073\n",
      "Successfully built requests-async http3\n",
      "Installing collected packages: h11, hyperframe, hpack, h2, rfc3986, http3, requests-async, websocket-client, deprecation, nest-asyncio, zope.interface, datetime, appdirs, eikon\n",
      "Successfully installed appdirs-1.4.3 datetime-4.3 deprecation-2.1.0 eikon-1.1.2 h11-0.8.1 h2-3.2.0 hpack-3.0.0 http3-0.6.7 hyperframe-5.2.0 nest-asyncio-1.0.0 requests-async-0.6.2 rfc3986-1.4.0 websocket-client-0.57.0 zope.interface-5.1.0\n"
     ]
    }
   ],
   "source": [
    "!pip install eikon"
   ]
  },
  {
   "cell_type": "code",
   "execution_count": 2,
   "metadata": {
    "pycharm": {
     "is_executing": false
    }
   },
   "outputs": [
    {
     "name": "stderr",
     "output_type": "stream",
     "text": [
      "C:\\Users\\queiy\\Anaconda3\\lib\\site-packages\\eikon\\time_series.py:282: FutureWarning: The pandas.np module is deprecated and will be removed from pandas in a future version. Import numpy directly instead\n",
      "  datapoints = pd.np.array(timeseries['dataPoints'])\n",
      "C:\\Users\\queiy\\Anaconda3\\lib\\site-packages\\eikon\\time_series.py:284: FutureWarning: The pandas.np module is deprecated and will be removed from pandas in a future version. Import numpy directly instead\n",
      "  timestamps = pd.np.array([tz_replacer(value) for value in datapoints[:, timestamp_index]],\n",
      "C:\\Users\\queiy\\Anaconda3\\lib\\site-packages\\eikon\\time_series.py:286: FutureWarning: The pandas.np module is deprecated and will be removed from pandas in a future version. Import numpy directly instead\n",
      "  datapoints = pd.np.delete(datapoints, pd.np.s_[timestamp_index],\n",
      "C:\\Users\\queiy\\Anaconda3\\lib\\site-packages\\eikon\\time_series.py:209: FutureWarning: The pandas.np module is deprecated and will be removed from pandas in a future version. Import numpy directly instead\n",
      "  data_frame = data_frame.fillna(pd.np.nan)\n"
     ]
    }
   ],
   "source": [
    "import eikon as ek\n",
    "import pandas as pd\n",
    "import datetime\n",
    "ek.set_app_key(\"11d0a9cec8354b79845f5cd85bbe20a6c44521b7\")\n",
    "\n",
    "ric_dict = {\"LCOc1\": \"brent\",\n",
    "            \"WTCLc1\":\"wti\"}\n",
    "\n",
    "rics = list(ric_dict.keys())\n",
    "\n",
    "start_date = \"2010-01-01\"\n",
    "end_date = datetime.datetime.now().strftime(\"%Y-%m-%d\")\n",
    "\n",
    "interval_list = [\"daily\", \"minute\", \"hour\"]\n",
    "\n",
    "# https://docs-developers.refinitiv.com/1583406055801/14684/book/en/eikon/index.html#get_timeseries\n",
    "for interval in interval_list:\n",
    "    df = ek.get_timeseries(rics, start_date=start_date, end_date = end_date, interval = interval)\n",
    "    \n",
    "    # Rename columns into name instead of RICs\n",
    "    rename_col = list(df.columns)\n",
    "    for i, t in enumerate(rename_col):\n",
    "        s = list(t)\n",
    "        s[0] = ric_dict.get(s[0])\n",
    "        rename_col[i] = tuple(s)\n",
    "        \n",
    "    df.columns = pd.MultiIndex.from_tuples(rename_col)\n",
    "    df.index.name = \"timestamp\"\n",
    "    df.to_csv(interval + \".csv\")\n"
   ]
  },
  {
   "cell_type": "code",
   "execution_count": null,
   "metadata": {},
   "outputs": [],
   "source": []
  },
  {
   "cell_type": "markdown",
   "metadata": {},
   "source": [
    "### Tick data\n",
    "\n"
   ]
  },
  {
   "cell_type": "code",
   "execution_count": 2,
   "metadata": {},
   "outputs": [],
   "source": [
    "\n",
    "for r in rics:\n",
    "    df = ek.get_timeseries(r, start_date=start_date, end_date = end_date, interval = \"tick\")\n",
    "    df.index.name = \"timestamp\"\n",
    "    df.reset_index(inplace = True)\n",
    "    df.to_csv(ric_dict.get(r) + \"_tick.csv\")"
   ]
  },
  {
   "cell_type": "code",
   "execution_count": 3,
   "metadata": {},
   "outputs": [],
   "source": [
    "snp_benchmark = ek.get_timeseries(\".SPX\", start_date=start_date, end_date = end_date, interval = \"daily\")\n",
    "us10y_benchmark = ek.get_timeseries(\"US10YT=RR\", start_date=start_date, end_date = end_date,  interval = \"daily\")\n",
    "\n",
    "snp_benchmark.to_csv(\"daily_spx.csv\")\n",
    "us10y_benchmark.to_csv(\"daily_us10y.csv\")"
   ]
  },
  {
   "cell_type": "code",
   "execution_count": 10,
   "metadata": {},
   "outputs": [
    {
     "name": "stderr",
     "output_type": "stream",
     "text": [
      "C:\\Users\\queiy\\Anaconda3\\lib\\site-packages\\eikon\\time_series.py:282: FutureWarning: The pandas.np module is deprecated and will be removed from pandas in a future version. Import numpy directly instead\n",
      "  datapoints = pd.np.array(timeseries['dataPoints'])\n",
      "C:\\Users\\queiy\\Anaconda3\\lib\\site-packages\\eikon\\time_series.py:284: FutureWarning: The pandas.np module is deprecated and will be removed from pandas in a future version. Import numpy directly instead\n",
      "  timestamps = pd.np.array([tz_replacer(value) for value in datapoints[:, timestamp_index]],\n",
      "C:\\Users\\queiy\\Anaconda3\\lib\\site-packages\\eikon\\time_series.py:286: FutureWarning: The pandas.np module is deprecated and will be removed from pandas in a future version. Import numpy directly instead\n",
      "  datapoints = pd.np.delete(datapoints, pd.np.s_[timestamp_index],\n",
      "C:\\Users\\queiy\\Anaconda3\\lib\\site-packages\\eikon\\time_series.py:209: FutureWarning: The pandas.np module is deprecated and will be removed from pandas in a future version. Import numpy directly instead\n",
      "  data_frame = data_frame.fillna(pd.np.nan)\n"
     ]
    }
   ],
   "source": [
    "snp_benchmark = ek.get_timeseries(\".SPX\", start_date=start_date, end_date = end_date, interval = \"hour\")"
   ]
  },
  {
   "cell_type": "code",
   "execution_count": 11,
   "metadata": {},
   "outputs": [
    {
     "data": {
      "text/html": [
       "<div>\n",
       "<style scoped>\n",
       "    .dataframe tbody tr th:only-of-type {\n",
       "        vertical-align: middle;\n",
       "    }\n",
       "\n",
       "    .dataframe tbody tr th {\n",
       "        vertical-align: top;\n",
       "    }\n",
       "\n",
       "    .dataframe thead th {\n",
       "        text-align: right;\n",
       "    }\n",
       "</style>\n",
       "<table border=\"1\" class=\"dataframe\">\n",
       "  <thead>\n",
       "    <tr style=\"text-align: right;\">\n",
       "      <th>.SPX</th>\n",
       "      <th>HIGH</th>\n",
       "      <th>LOW</th>\n",
       "      <th>OPEN</th>\n",
       "      <th>CLOSE</th>\n",
       "      <th>COUNT</th>\n",
       "    </tr>\n",
       "    <tr>\n",
       "      <th>Date</th>\n",
       "      <th></th>\n",
       "      <th></th>\n",
       "      <th></th>\n",
       "      <th></th>\n",
       "      <th></th>\n",
       "    </tr>\n",
       "  </thead>\n",
       "  <tbody>\n",
       "    <tr>\n",
       "      <th>2019-05-08 14:00:00</th>\n",
       "      <td>2886.87</td>\n",
       "      <td>2873.28</td>\n",
       "      <td>2879.61</td>\n",
       "      <td>2884.04</td>\n",
       "      <td>1799.0</td>\n",
       "    </tr>\n",
       "    <tr>\n",
       "      <th>2019-05-08 15:00:00</th>\n",
       "      <td>2891.09</td>\n",
       "      <td>2877.16</td>\n",
       "      <td>2884.05</td>\n",
       "      <td>2891.09</td>\n",
       "      <td>3600.0</td>\n",
       "    </tr>\n",
       "    <tr>\n",
       "      <th>2019-05-08 16:00:00</th>\n",
       "      <td>2897.96</td>\n",
       "      <td>2882.64</td>\n",
       "      <td>2891.11</td>\n",
       "      <td>2888.13</td>\n",
       "      <td>3600.0</td>\n",
       "    </tr>\n",
       "    <tr>\n",
       "      <th>2019-05-08 17:00:00</th>\n",
       "      <td>2893.52</td>\n",
       "      <td>2882.05</td>\n",
       "      <td>2888.12</td>\n",
       "      <td>2893.42</td>\n",
       "      <td>3600.0</td>\n",
       "    </tr>\n",
       "    <tr>\n",
       "      <th>2019-05-08 18:00:00</th>\n",
       "      <td>2894.97</td>\n",
       "      <td>2888.63</td>\n",
       "      <td>2893.44</td>\n",
       "      <td>2891.35</td>\n",
       "      <td>3600.0</td>\n",
       "    </tr>\n",
       "    <tr>\n",
       "      <th>...</th>\n",
       "      <td>...</td>\n",
       "      <td>...</td>\n",
       "      <td>...</td>\n",
       "      <td>...</td>\n",
       "      <td>...</td>\n",
       "    </tr>\n",
       "    <tr>\n",
       "      <th>2020-05-07 18:00:00</th>\n",
       "      <td>2900.01</td>\n",
       "      <td>2890.20</td>\n",
       "      <td>2896.80</td>\n",
       "      <td>2892.80</td>\n",
       "      <td>3600.0</td>\n",
       "    </tr>\n",
       "    <tr>\n",
       "      <th>2020-05-07 19:00:00</th>\n",
       "      <td>2894.18</td>\n",
       "      <td>2881.02</td>\n",
       "      <td>2892.79</td>\n",
       "      <td>2885.11</td>\n",
       "      <td>3600.0</td>\n",
       "    </tr>\n",
       "    <tr>\n",
       "      <th>2020-05-07 20:00:00</th>\n",
       "      <td>2888.65</td>\n",
       "      <td>2876.48</td>\n",
       "      <td>2885.10</td>\n",
       "      <td>2881.09</td>\n",
       "      <td>3600.0</td>\n",
       "    </tr>\n",
       "    <tr>\n",
       "      <th>2020-05-07 21:00:00</th>\n",
       "      <td>2881.26</td>\n",
       "      <td>2881.13</td>\n",
       "      <td>2881.26</td>\n",
       "      <td>2881.19</td>\n",
       "      <td>1201.0</td>\n",
       "    </tr>\n",
       "    <tr>\n",
       "      <th>2020-05-07 22:00:00</th>\n",
       "      <td>2881.19</td>\n",
       "      <td>2881.19</td>\n",
       "      <td>2881.19</td>\n",
       "      <td>2881.19</td>\n",
       "      <td>1.0</td>\n",
       "    </tr>\n",
       "  </tbody>\n",
       "</table>\n",
       "<p>2181 rows × 5 columns</p>\n",
       "</div>"
      ],
      "text/plain": [
       ".SPX                    HIGH      LOW     OPEN    CLOSE   COUNT\n",
       "Date                                                           \n",
       "2019-05-08 14:00:00  2886.87  2873.28  2879.61  2884.04  1799.0\n",
       "2019-05-08 15:00:00  2891.09  2877.16  2884.05  2891.09  3600.0\n",
       "2019-05-08 16:00:00  2897.96  2882.64  2891.11  2888.13  3600.0\n",
       "2019-05-08 17:00:00  2893.52  2882.05  2888.12  2893.42  3600.0\n",
       "2019-05-08 18:00:00  2894.97  2888.63  2893.44  2891.35  3600.0\n",
       "...                      ...      ...      ...      ...     ...\n",
       "2020-05-07 18:00:00  2900.01  2890.20  2896.80  2892.80  3600.0\n",
       "2020-05-07 19:00:00  2894.18  2881.02  2892.79  2885.11  3600.0\n",
       "2020-05-07 20:00:00  2888.65  2876.48  2885.10  2881.09  3600.0\n",
       "2020-05-07 21:00:00  2881.26  2881.13  2881.26  2881.19  1201.0\n",
       "2020-05-07 22:00:00  2881.19  2881.19  2881.19  2881.19     1.0\n",
       "\n",
       "[2181 rows x 5 columns]"
      ]
     },
     "execution_count": 11,
     "metadata": {},
     "output_type": "execute_result"
    }
   ],
   "source": [
    "snp_benchmark"
   ]
  }
 ],
 "metadata": {
  "kernelspec": {
   "display_name": "Python 3",
   "language": "python",
   "name": "python3"
  },
  "language_info": {
   "codemirror_mode": {
    "name": "ipython",
    "version": 3
   },
   "file_extension": ".py",
   "mimetype": "text/x-python",
   "name": "python",
   "nbconvert_exporter": "python",
   "pygments_lexer": "ipython3",
   "version": "3.7.6"
  },
  "pycharm": {
   "stem_cell": {
    "cell_type": "raw",
    "metadata": {
     "collapsed": false
    },
    "source": []
   }
  }
 },
 "nbformat": 4,
 "nbformat_minor": 4
}
