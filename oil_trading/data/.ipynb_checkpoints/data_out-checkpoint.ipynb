{
 "cells": [
  {
   "cell_type": "code",
   "execution_count": 48,
   "metadata": {},
   "outputs": [
    {
     "ename": "TypeError",
     "evalue": "unsupported operand type(s) for +: 'int' and 'str'",
     "output_type": "error",
     "traceback": [
      "\u001b[1;31m---------------------------------------------------------------------------\u001b[0m",
      "\u001b[1;31mTypeError\u001b[0m                                 Traceback (most recent call last)",
      "\u001b[1;32m<ipython-input-48-3879e8f9e18e>\u001b[0m in \u001b[0;36m<module>\u001b[1;34m\u001b[0m\n\u001b[0;32m     27\u001b[0m     \u001b[0mdf\u001b[0m\u001b[1;33m.\u001b[0m\u001b[0mcolumns\u001b[0m \u001b[1;33m=\u001b[0m \u001b[0mpd\u001b[0m\u001b[1;33m.\u001b[0m\u001b[0mMultiIndex\u001b[0m\u001b[1;33m.\u001b[0m\u001b[0mfrom_tuples\u001b[0m\u001b[1;33m(\u001b[0m\u001b[0mrename_col\u001b[0m\u001b[1;33m)\u001b[0m\u001b[1;33m\u001b[0m\u001b[1;33m\u001b[0m\u001b[0m\n\u001b[0;32m     28\u001b[0m     \u001b[0mdf\u001b[0m\u001b[1;33m.\u001b[0m\u001b[0mindex\u001b[0m\u001b[1;33m.\u001b[0m\u001b[0mname\u001b[0m \u001b[1;33m=\u001b[0m \u001b[1;34m\"timestamp\"\u001b[0m\u001b[1;33m\u001b[0m\u001b[1;33m\u001b[0m\u001b[0m\n\u001b[1;32m---> 29\u001b[1;33m     \u001b[0mdf\u001b[0m\u001b[1;33m.\u001b[0m\u001b[0mto_csv\u001b[0m\u001b[1;33m(\u001b[0m\u001b[0mi\u001b[0m \u001b[1;33m+\u001b[0m \u001b[1;34m\".csv\"\u001b[0m\u001b[1;33m)\u001b[0m\u001b[1;33m\u001b[0m\u001b[1;33m\u001b[0m\u001b[0m\n\u001b[0m\u001b[0;32m     30\u001b[0m \u001b[1;33m\u001b[0m\u001b[0m\n",
      "\u001b[1;31mTypeError\u001b[0m: unsupported operand type(s) for +: 'int' and 'str'"
     ]
    }
   ],
   "source": [
    "import eikon as ek\n",
    "import pandas as pd\n",
    "ek.set_app_key(\"11d0a9cec8354b79845f5cd85bbe20a6c44521b7\")\n",
    "\n",
    "ric_dict = {\"LCOc1\": \"brent\",\n",
    "            \"WTCLc1\":\"wti\"}\n",
    "\n",
    "rics = list(ric_dict.keys())\n",
    "\n",
    "start_date = \"2010-01-01\"\n",
    "end_date = \"2020-03-04\"\n",
    "\n",
    "interval_list = [\"minute\", \"daily\", \"tick\"]\n",
    "\n",
    "# https://docs-developers.refinitiv.com/1583406055801/14684/book/en/eikon/index.html#get_timeseries\n",
    "for interval in interval_list:\n",
    "    df = ek.get_timeseries(rics,start_date=start_date, end_date = end_date, interval = interval)\n",
    "    \n",
    "    # Rename columns into name instead of RICs\n",
    "    rename_col = list(df.columns)\n",
    "    for i, t in enumerate(rename_col):\n",
    "        s = list(t)\n",
    "        s[0] = ric_dict.get(s[0])\n",
    "        rename_col[i] = tuple(s)\n",
    "        \n",
    "    df.columns = pd.MultiIndex.from_tuples(rename_col)\n",
    "    df.index.name = \"timestamp\"\n",
    "    df.to_csv(interval + \".csv\")\n",
    "        "
   ]
  }
 ],
 "metadata": {
  "kernelspec": {
   "display_name": "Python 3",
   "language": "python",
   "name": "python3"
  },
  "language_info": {
   "codemirror_mode": {
    "name": "ipython",
    "version": 3
   },
   "file_extension": ".py",
   "mimetype": "text/x-python",
   "name": "python",
   "nbconvert_exporter": "python",
   "pygments_lexer": "ipython3",
   "version": "3.7.4"
  }
 },
 "nbformat": 4,
 "nbformat_minor": 4
}
