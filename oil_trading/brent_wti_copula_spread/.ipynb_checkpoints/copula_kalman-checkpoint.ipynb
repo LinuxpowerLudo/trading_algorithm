{
 "cells": [
  {
   "cell_type": "code",
   "execution_count": null,
   "metadata": {
    "colab": {
     "base_uri": "https://localhost:8080/",
     "height": 141
    },
    "colab_type": "code",
    "id": "kVN0iku4WPC0",
    "outputId": "9ae895eb-6583-44de-b657-6b5bbc08df0e"
   },
   "outputs": [
    {
     "name": "stdout",
     "output_type": "stream",
     "text": [
      "Cloning into 'trading_algorithm'...\n",
      "remote: Enumerating objects: 179, done.\u001b[K\n",
      "remote: Counting objects: 100% (179/179), done.\u001b[K\n",
      "remote: Compressing objects: 100% (130/130), done.\u001b[K\n",
      "remote: Total 179 (delta 70), reused 136 (delta 39), pack-reused 0\u001b[K\n",
      "Receiving objects: 100% (179/179), 6.05 MiB | 21.88 MiB/s, done.\n",
      "Resolving deltas: 100% (70/70), done.\n"
     ]
    }
   ],
   "source": []
  },
  {
   "cell_type": "code",
   "execution_count": 3,
   "metadata": {
    "colab": {
     "base_uri": "https://localhost:8080/",
     "height": 194
    },
    "colab_type": "code",
    "id": "i62IeG0bWiRW",
    "outputId": "d3f323d0-807a-44cb-fe9d-322499f832ab"
   },
   "outputs": [
    {
     "data": {
      "text/plain": [
       "'C:\\\\Users\\\\queiy\\\\trading_algorithm\\\\oil_trading\\\\brent_wti_copula_spread'"
      ]
     },
     "execution_count": 3,
     "metadata": {},
     "output_type": "execute_result"
    }
   ],
   "source": [
    "import os\n",
    "os.getcwd()"
   ]
  },
  {
   "cell_type": "code",
   "execution_count": null,
   "metadata": {
    "colab": {},
    "colab_type": "code",
    "id": "lrZTDR5kkc-V"
   },
   "outputs": [],
   "source": [
    "import pandas as pd\n",
    "import matplotlib.pyplot as plt\n",
    "import matplotlib as mpl\n",
    "import numpy as np\n",
    "import sys\n",
    "from oil_trading.data.prepare_reuters_data import get_reuters_data\n",
    "from oil_trading.data.prepare_bloomberg_data import get_bbg_data\n",
    "from scipy.integrate import quad\n",
    "from scipy.optimize import minimize\n",
    "from statsmodels.distributions.empirical_distribution import ECDF\n",
    "from scipy.stats import kendalltau\n",
    "import matplotlib as mpl\n",
    "import math\n",
    "from oil_trading.brent_wti_kalman_spread.kalman_signal.trading_signal import *\n",
    "from pnl_process.static_position import trade_summary\n",
    "from pnl_process.periodic_settlement import periodic_settlement\n",
    "mpl.rcParams[\"figure.figsize\"] = (20, 3)\n",
    "plt.style.use(\"seaborn-whitegrid\")\n",
    "\n",
    "Epsilon = sys.float_info.epsilon"
   ]
  },
  {
   "cell_type": "code",
   "execution_count": null,
   "metadata": {
    "colab": {
     "base_uri": "https://localhost:8080/",
     "height": 227
    },
    "colab_type": "code",
    "id": "ZYKP1ukUkfKs",
    "outputId": "5b418402-bd95-48b5-8eee-33a547a17e45"
   },
   "outputs": [
    {
     "data": {
      "text/html": [
       "<div>\n",
       "<style scoped>\n",
       "    .dataframe tbody tr th:only-of-type {\n",
       "        vertical-align: middle;\n",
       "    }\n",
       "\n",
       "    .dataframe tbody tr th {\n",
       "        vertical-align: top;\n",
       "    }\n",
       "\n",
       "    .dataframe thead th {\n",
       "        text-align: right;\n",
       "    }\n",
       "</style>\n",
       "<table border=\"1\" class=\"dataframe\">\n",
       "  <thead>\n",
       "    <tr style=\"text-align: right;\">\n",
       "      <th></th>\n",
       "      <th>brent</th>\n",
       "      <th>wti</th>\n",
       "    </tr>\n",
       "    <tr>\n",
       "      <th>timestamp</th>\n",
       "      <th></th>\n",
       "      <th></th>\n",
       "    </tr>\n",
       "  </thead>\n",
       "  <tbody>\n",
       "    <tr>\n",
       "      <th>1990-01-04</th>\n",
       "      <td>-0.008333</td>\n",
       "      <td>-0.011468</td>\n",
       "    </tr>\n",
       "    <tr>\n",
       "      <th>1990-01-05</th>\n",
       "      <td>0.022525</td>\n",
       "      <td>-0.014197</td>\n",
       "    </tr>\n",
       "    <tr>\n",
       "      <th>1990-01-08</th>\n",
       "      <td>-0.069642</td>\n",
       "      <td>-0.065348</td>\n",
       "    </tr>\n",
       "    <tr>\n",
       "      <th>1990-01-09</th>\n",
       "      <td>-0.018692</td>\n",
       "      <td>0.020600</td>\n",
       "    </tr>\n",
       "    <tr>\n",
       "      <th>1990-01-10</th>\n",
       "      <td>-0.012994</td>\n",
       "      <td>0.036918</td>\n",
       "    </tr>\n",
       "  </tbody>\n",
       "</table>\n",
       "</div>"
      ],
      "text/plain": [
       "               brent       wti\n",
       "timestamp                     \n",
       "1990-01-04 -0.008333 -0.011468\n",
       "1990-01-05  0.022525 -0.014197\n",
       "1990-01-08 -0.069642 -0.065348\n",
       "1990-01-09 -0.018692  0.020600\n",
       "1990-01-10 -0.012994  0.036918"
      ]
     },
     "execution_count": 7,
     "metadata": {
      "tags": []
     },
     "output_type": "execute_result"
    }
   ],
   "source": [
    "# df = get_reuters_data(\"daily\")\n",
    "df = get_bbg_data()\n",
    "df2 = df[[\"brent\", \"wti\"]].copy()\n",
    "df_ret = np.log(df2 / df2.shift(1)).dropna()\n",
    "df_ret.head()"
   ]
  },
  {
   "cell_type": "code",
   "execution_count": null,
   "metadata": {
    "colab": {},
    "colab_type": "code",
    "id": "n9oEIci2ivSI"
   },
   "outputs": [],
   "source": [
    "# Kendall Tau and Theta Parameter Estimation\n",
    "def estimate_parameter(copula_family, tau):\n",
    "    if copula_family == \"clayton\":\n",
    "        return 2 * tau / (1 - tau)\n",
    "    elif copula_family == \"gumbel\":\n",
    "        return 1 / (1 - tau)\n",
    "    elif copula_family == \"frank\":\n",
    "        # Debeye's 1st order function:\n",
    "        integrand = lambda t: t / (np.exp(t) -1)\n",
    "        frank_argmin = lambda theta: ((tau - 1)/4 - (quad(integrand, Epsilon, theta)[0]/theta - 1)/theta)**2 \n",
    "        return float(minimize(frank_argmin, x0 = 4, method = \"BFGS\", tol = 1e-5).x)\n",
    "\n",
    "# C(u,v;theta) Log-likelihood function\n",
    "def copula_log_pdf(copula_family, theta, u, v):\n",
    "    if  copula_family == 'clayton':\n",
    "        pdf = (theta + 1) * ((u ** (-theta) + v ** (-theta) - 1) ** (-2 - 1 / theta)) * (u ** (-theta - 1) * v ** (-theta - 1))\n",
    "    elif copula_family == 'frank':\n",
    "        num = -theta * (np.exp(-theta) - 1) * (np.exp(-theta * (u + v)))\n",
    "        denom = ((np.exp(-theta * u) - 1) * (np.exp(-theta * v) - 1) + (np.exp(-theta) - 1)) ** 2\n",
    "        pdf = num / denom        \n",
    "    elif copula_family == 'gumbel':\n",
    "        A = (-np.log(u)) ** theta + (-np.log(v)) ** theta\n",
    "        c = np.exp(-A ** (1 / theta))\n",
    "        pdf = c * (u * v) ** (-1) * (A ** (-2 + 2 / theta)) * ((np.log(u) * np.log(v)) ** (theta - 1)) * (1 + (theta - 1) * A ** (-1 / theta))\n",
    "        \n",
    "        # TODO: issue when u = 1 and v = 1\n",
    "        if math.isnan(A) or math.isnan(c) or math.isnan(pdf):\n",
    "            print(\"error: \", \"u: \", u, \"v: \", v, \"theta: \", theta, \"\\n\")\n",
    "            print(\"A:\", A, \"c:\", c, \"pdf:\", pdf)\n",
    "    return np.log(pdf)\n",
    "\n",
    "def misprice_index(u, v, copula_family, theta):\n",
    "    if copula_family == 'clayton':\n",
    "        MI_u_v = v ** (-theta - 1) * (u ** (-theta) + v ** (-theta) - 1) ** (-1 / theta - 1) # P(U<u|V=v)\n",
    "        MI_v_u = u ** (-theta - 1) * (u ** (-theta) + v ** (-theta) - 1) ** (-1 / theta - 1) # P(V<v|U=u)\n",
    "\n",
    "    elif copula_family == 'frank':\n",
    "        A = (np.exp(-theta * u) - 1) * (np.exp(-theta * v) - 1) + (np.exp(-theta * v) - 1)\n",
    "        B = (np.exp(-theta * u) - 1) * (np.exp(-theta * v) - 1) + (np.exp(-theta * u) - 1)\n",
    "        C = (np.exp(-theta * u) - 1) * (np.exp(-theta * v) - 1) + (np.exp(-theta) - 1)\n",
    "        MI_u_v = B / C\n",
    "        MI_v_u = A / C\n",
    "    \n",
    "    elif copula_family == 'gumbel':\n",
    "        A = (-np.log(u)) ** theta + (-np.log(v)) ** theta\n",
    "        C_uv = np.exp(-A ** (1 / theta))   # C_uv is gumbel copula function C(u,v)\n",
    "        MI_u_v = C_uv * (A ** ((1 - theta) / theta)) * (-np.log(v)) ** (theta - 1) * (1.0 / v)\n",
    "        MI_v_u = C_uv * (A ** ((1 - theta) / theta)) * (-np.log(u)) ** (theta - 1) * (1.0 / u)\n",
    "    return MI_u_v, MI_v_u"
   ]
  },
  {
   "cell_type": "code",
   "execution_count": null,
   "metadata": {
    "colab": {
     "base_uri": "https://localhost:8080/",
     "height": 212
    },
    "colab_type": "code",
    "id": "DsTn6z4LjQL8",
    "outputId": "fb6515b3-4f76-4709-a439-0bbdc582f969"
   },
   "outputs": [
    {
     "name": "stderr",
     "output_type": "stream",
     "text": [
      "/usr/local/lib/python3.6/dist-packages/ipykernel_launcher.py:10: RuntimeWarning: divide by zero encountered in log\n",
      "  # Remove the CWD from sys.path while we load stuff.\n",
      "/usr/local/lib/python3.6/dist-packages/ipykernel_launcher.py:10: RuntimeWarning: invalid value encountered in log\n",
      "  # Remove the CWD from sys.path while we load stuff.\n",
      "/usr/local/lib/python3.6/dist-packages/ipykernel_launcher.py:29: RuntimeWarning: divide by zero encountered in log\n",
      "/usr/local/lib/python3.6/dist-packages/numpy/core/fromnumeric.py:90: RuntimeWarning: overflow encountered in reduce\n",
      "  return ufunc.reduce(obj, axis, dtype, out, **passkwargs)\n",
      "/usr/local/lib/python3.6/dist-packages/ipykernel_launcher.py:46: RuntimeWarning: divide by zero encountered in double_scalars\n",
      "/usr/local/lib/python3.6/dist-packages/ipykernel_launcher.py:46: RuntimeWarning: invalid value encountered in double_scalars\n",
      "/usr/local/lib/python3.6/dist-packages/ipykernel_launcher.py:47: RuntimeWarning: divide by zero encountered in double_scalars\n",
      "/usr/local/lib/python3.6/dist-packages/ipykernel_launcher.py:47: RuntimeWarning: invalid value encountered in double_scalars\n"
     ]
    }
   ],
   "source": [
    "# Confidence bands\n",
    "top_band = 0.95\n",
    "bottom_band = 1 - top_band\n",
    "update_window = 1000\n",
    "signal = {}\n",
    "long_short = 0\n",
    "\n",
    "for i in range(update_window, len(df)+1):\n",
    "    df_ret = df.iloc[:i].tail(update_window) # rolling update fixed size window\n",
    "    #df_ret = df.iloc[:i] # rolling append\n",
    "    df_ret = np.log(df_ret / df_ret.shift(1)).dropna()\n",
    "    current_time = df_ret.index[-1]\n",
    "    \n",
    "    # y/v: brent, x/u: wti\n",
    "    x = df_ret.wti\n",
    "    y = df_ret.brent\n",
    "\n",
    "    # New Signals:\n",
    "    x_ret_new, y_ret_new =  x[-1], y[-1]\n",
    "\n",
    "    # Convert return series of brent and wti into uniform values U and V using ECDF\n",
    "    ecdf_x, ecdf_y = ECDF(x), ECDF(y)\n",
    "    u, v = [ecdf_x(s) for s in x], [ecdf_y(s) for s in y]\n",
    "\n",
    "    # Additional control to prevent feeding u=1.0 and v=1.0 which\n",
    "    # results in invalid pdf\n",
    "    zip_u_v = list(zip(u,v))\n",
    "    if (1.0, 1.0) in zip_u_v:\n",
    "        one_one_index = zip_u_v.index((1.0, 1.0))\n",
    "        del zip_u_v[one_one_index]\n",
    "\n",
    "    tau, tau_p_val = kendalltau(x,y)\n",
    "\n",
    "    AIC_criteria = {}\n",
    "    for fam in [\"clayton\", \"frank\", \"gumbel\"]:\n",
    "        param = estimate_parameter(fam, tau)\n",
    "        lpdf = [ copula_log_pdf(fam, param, x, y) for x, y in zip_u_v]\n",
    "        lpdf = np.nan_to_num(lpdf)\n",
    "        log_likelihood = np.sum(lpdf)\n",
    "        AIC_criteria[fam] = [param, -2 * log_likelihood + 2 * (1) ] # k = 1 for 1 parameter\n",
    "\n",
    "    # Select the best copula based on the lowest AIC \n",
    "    best_copula = min(AIC_criteria.items(), key = lambda x: x[1][1])\n",
    "\n",
    "    u_new = ecdf_x(x_ret_new)\n",
    "    v_new = ecdf_y(y_ret_new)\n",
    "\n",
    "    MI_u_v, MI_v_u = misprice_index(u_new, v_new, best_copula[0], best_copula[1][0])\n",
    "    # M_v_u < 0.05 and M_u_v > 0.95, long spread\n",
    "    # M_v_u > 0.95 and M_u_v < 0.05, short spread\n",
    "    if (MI_u_v < bottom_band and MI_v_u > top_band):\n",
    "        long_short = -1\n",
    "    elif (MI_u_v > top_band and MI_v_u < bottom_band):\n",
    "        long_short = 1\n",
    "    else:\n",
    "        long_short = 0\n",
    "\n",
    "    signal[current_time] = long_short"
   ]
  },
  {
   "cell_type": "code",
   "execution_count": null,
   "metadata": {
    "colab": {
     "base_uri": "https://localhost:8080/",
     "height": 432
    },
    "colab_type": "code",
    "id": "Nexw7JTfmM6D",
    "outputId": "6111db4b-9f90-4d92-b7c8-1297f9b1bdd5"
   },
   "outputs": [
    {
     "data": {
      "image/png": "[encoded data removed]",
      "text/plain": [
       "<Figure size 1440x216 with 1 Axes>"
      ]
     },
     "metadata": {
      "tags": []
     },
     "output_type": "display_data"
    },
    {
     "data": {
      "image/png": "[encoded data removed]",
      "text/plain": [
       "<Figure size 1440x216 with 1 Axes>"
      ]
     },
     "metadata": {
      "tags": []
     },
     "output_type": "display_data"
    },
    {
     "name": "stdout",
     "output_type": "stream",
     "text": [
      "0.42718243135951584\n"
     ]
    }
   ],
   "source": [
    "df_signal = pd.DataFrame(signal, index = [\"long_short_spread\"]).T\n",
    "df_signal.index.name = \"timestamp\"\n",
    "\n",
    "kalman_signal = kalman_regression_ZScore_signal(df, \"wti\", \"brent\", \n",
    "                                                rolling_window=10000, EM_on= False, EM_n_iter=5)\n",
    "kalman_hr = kalman_signal[[\"y\", \"x\", \"hr\"]]\n",
    "capital = 100000\n",
    "combo = pd.concat([df_signal, kalman_hr], axis = 1)\n",
    "combo_unit = dynamic_unit_allocation(combo, capital)\n",
    "\n",
    "df_units = combo_unit.copy()\n",
    "df_y = df_units[[\"y\", \"y_pos\"]]\n",
    "df_x = df_units[[\"x\", \"x_pos\"]]\n",
    "\n",
    "pnl_x = periodic_settlement(df_x, \"x\", \"x_pos\")\n",
    "pnl_y = periodic_settlement(df_y, \"y\", \"y_pos\")\n",
    "total_pnl = pnl_x + pnl_y\n",
    "total_pnl.name = \"total_pnl\"\n",
    "\n",
    "# Process Strategy Performance and plot performance\n",
    "total_pnl.plot()\n",
    "plt.show()\n",
    "total_pnl = total_pnl.cumsum() + capital\n",
    "total_pnl.plot()\n",
    "plt.show()\n",
    "\n",
    "# Trade Log\n",
    "log = pd.concat([combo, df_units, pnl_x, pnl_y, total_pnl], axis = 1)\n",
    "daily_ret = total_pnl.pct_change()\n",
    "sharpe = daily_ret.mean() / daily_ret.std() * np.sqrt(252)\n",
    "/print sharpe"
   ]
  }
 ],
 "metadata": {
  "accelerator": "GPU",
  "colab": {
   "collapsed_sections": [],
   "name": "copula refined",
   "provenance": []
  },
  "kernelspec": {
   "display_name": "Python 3",
   "language": "python",
   "name": "python3"
  },
  "language_info": {
   "codemirror_mode": {
    "name": "ipython",
    "version": 3
   },
   "file_extension": ".py",
   "mimetype": "text/x-python",
   "name": "python",
   "nbconvert_exporter": "python",
   "pygments_lexer": "ipython3",
   "version": "3.7.4"
  }
 },
 "nbformat": 4,
 "nbformat_minor": 4
}
